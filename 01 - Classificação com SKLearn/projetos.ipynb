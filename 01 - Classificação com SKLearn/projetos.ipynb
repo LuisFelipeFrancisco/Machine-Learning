{
 "cells": [
  {
   "cell_type": "code",
   "execution_count": null,
   "metadata": {},
   "outputs": [],
   "source": [
    "import pandas as pd\n",
    "\n",
    "url = \"https://gist.githubusercontent.com/LuisFelipeFrancisco/ffea1691e4e7396a2bf5428403dccb9e/raw/01b49526fe15bced36b089410af6f1eb4492b655/hours.csv\"\n",
    "\n",
    "dados = pd.read_csv(url)\n",
    "dados.head(3)"
   ]
  },
  {
   "cell_type": "code",
   "execution_count": null,
   "metadata": {},
   "outputs": [],
   "source": [
    "rename = {\n",
    "    \"unfinished\" : \"nao_finalizado\",\n",
    "    \"expected_hours\": \"horas_esperadas\",\n",
    "    \"price\": \"preco\"\n",
    "}\n",
    "\n",
    "dados = dados.rename(columns = rename)\n",
    "dados.head(3)"
   ]
  },
  {
   "cell_type": "code",
   "execution_count": null,
   "metadata": {},
   "outputs": [],
   "source": [
    "change = {\n",
    "    1 : 0,\n",
    "    0 : 1\n",
    "}\n",
    "\n",
    "dados['finalizado'] = dados.nao_finalizado.map(change)\n",
    "\n",
    "dados.head()"
   ]
  },
  {
   "cell_type": "code",
   "execution_count": null,
   "metadata": {},
   "outputs": [],
   "source": [
    "dados.tail() # Retorna as 5 últimas linhas do DataFrame"
   ]
  },
  {
   "cell_type": "code",
   "execution_count": null,
   "metadata": {},
   "outputs": [],
   "source": [
    "%pip install seaborn # Instala a biblioteca seaborn para visualização de dados estatísticos"
   ]
  },
  {
   "cell_type": "code",
   "execution_count": null,
   "metadata": {},
   "outputs": [],
   "source": [
    "import seaborn as sns\n",
    "\n",
    "sns.scatterplot(x=\"horas_esperadas\", y=\"preco\", data=dados) # Gráfico de dispersão entre as variáveis horas_esperadas e preco\n"
   ]
  },
  {
   "cell_type": "code",
   "execution_count": null,
   "metadata": {},
   "outputs": [],
   "source": [
    "sns.scatterplot(x=\"horas_esperadas\", y=\"preco\", hue=\"finalizado\", data=dados) # hue vai colorir os pontos de acordo com a variável passada"
   ]
  },
  {
   "cell_type": "code",
   "execution_count": null,
   "metadata": {},
   "outputs": [],
   "source": [
    "sns.relplot(x=\"horas_esperadas\", y=\"preco\", col=\"finalizado\", data=dados) # relplot é um gráfico de dispersão com mais de uma variável categórica"
   ]
  },
  {
   "cell_type": "code",
   "execution_count": null,
   "metadata": {},
   "outputs": [],
   "source": [
    "x = dados[['horas_esperadas', 'preco']]\n",
    "y = dados['finalizado']"
   ]
  },
  {
   "cell_type": "code",
   "execution_count": null,
   "metadata": {},
   "outputs": [],
   "source": [
    "from sklearn.model_selection import train_test_split\n",
    "from sklearn.svm import LinearSVC\n",
    "from sklearn.metrics import accuracy_score\n",
    "\n",
    "seed = 5\n",
    "\n",
    "train_x, test_x, train_y, test_y = train_test_split(x, y, \n",
    "                                                    random_state = seed, \n",
    "                                                    test_size = 0.25, \n",
    "                                                    stratify = y)\n",
    "\n",
    "print (f'Treinaremos com {len(train_x)} elementos e testaremos com {len(test_x)} elementos.')\n",
    "\n",
    "model = LinearSVC()\n",
    "model.fit(train_x, train_y)\n",
    "predictions = model.predict(test_x)\n",
    "\n",
    "accuracy = accuracy_score(test_y, predictions) * 100\n",
    "\n",
    "print (f'A acurácia foi de {accuracy:.2f}%.')"
   ]
  },
  {
   "attachments": {},
   "cell_type": "markdown",
   "metadata": {},
   "source": [
    "Baseline"
   ]
  },
  {
   "cell_type": "code",
   "execution_count": null,
   "metadata": {},
   "outputs": [],
   "source": [
    "import numpy as np\n",
    "\n",
    "baseline = np.ones(540)\n",
    "\n",
    "accuracy = accuracy_score(test_y, baseline) * 100\n",
    "\n",
    "print (f'A acurácia do baseline foi de {accuracy:.2f}%.')"
   ]
  },
  {
   "cell_type": "code",
   "execution_count": null,
   "metadata": {},
   "outputs": [],
   "source": [
    "sns.scatterplot(x=\"horas_esperadas\", y=\"preco\", hue=test_y, data=test_x)"
   ]
  },
  {
   "cell_type": "code",
   "execution_count": null,
   "metadata": {},
   "outputs": [],
   "source": [
    "x_min = test_x.horas_esperadas.min()\n",
    "x_max = test_x.horas_esperadas.max()\n",
    "\n",
    "y_min = test_x.preco.min()\n",
    "y_max = test_x.preco.max()\n",
    "\n",
    "print (x_min, x_max, y_min, y_max)"
   ]
  },
  {
   "cell_type": "code",
   "execution_count": null,
   "metadata": {},
   "outputs": [],
   "source": [
    "pixels = 100\n",
    "\n",
    "x_axis = np.arange(x_min, x_max, (x_max - x_min) / pixels) # Cria um array com 100 elementos entre x_min e x_max\n",
    "y_axis = np.arange(y_min, y_max, (y_max - y_min) / pixels) # Cria um array com 100 elementos entre y_min e y_max"
   ]
  },
  {
   "cell_type": "code",
   "execution_count": null,
   "metadata": {},
   "outputs": [],
   "source": [
    "xx, yy = np.meshgrid(x_axis, y_axis) # Cria uma matriz com os valores de x_axis e y_axis\n",
    "concat = np.c_[xx.ravel(), yy.ravel()] # Concatena os valores de xx e yy em uma matriz\n",
    "print (concat)"
   ]
  },
  {
   "cell_type": "code",
   "execution_count": null,
   "metadata": {},
   "outputs": [],
   "source": [
    "Z = model.predict(concat)\n",
    "Z.shape"
   ]
  },
  {
   "cell_type": "code",
   "execution_count": null,
   "metadata": {},
   "outputs": [],
   "source": [
    "xx.shape"
   ]
  },
  {
   "cell_type": "code",
   "execution_count": null,
   "metadata": {},
   "outputs": [],
   "source": [
    "Z = model.predict(concat)\n",
    "Z = Z.reshape(xx.shape)\n",
    "Z"
   ]
  },
  {
   "attachments": {},
   "cell_type": "markdown",
   "metadata": {},
   "source": [
    "Decision Boundary"
   ]
  },
  {
   "cell_type": "code",
   "execution_count": null,
   "metadata": {},
   "outputs": [],
   "source": [
    "import matplotlib.pyplot as plt\n",
    "\n",
    "\n",
    "plt.contourf(xx, yy, Z, alpha=0.3)\n",
    "\n",
    "plt.scatter(test_x.horas_esperadas, test_x.preco, c=test_y, s=1)"
   ]
  }
 ],
 "metadata": {
  "kernelspec": {
   "display_name": "Python 3",
   "language": "python",
   "name": "python3"
  },
  "language_info": {
   "codemirror_mode": {
    "name": "ipython",
    "version": 3
   },
   "file_extension": ".py",
   "mimetype": "text/x-python",
   "name": "python",
   "nbconvert_exporter": "python",
   "pygments_lexer": "ipython3",
   "version": "3.11.2"
  },
  "orig_nbformat": 4
 },
 "nbformat": 4,
 "nbformat_minor": 2
}
