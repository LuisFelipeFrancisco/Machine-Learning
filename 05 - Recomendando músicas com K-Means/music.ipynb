{
 "cells": [
  {
   "cell_type": "code",
   "execution_count": null,
   "metadata": {},
   "outputs": [],
   "source": [
    "import pandas as pd\n",
    "import numpy as np\n",
    "\n",
    "general = pd.read_csv('data/Dados_totais.csv')\n",
    "data_genre = pd.read_csv('data/data_by_genres.csv')\n",
    "data_year = pd.read_csv('data/data_by_year.csv')"
   ]
  },
  {
   "cell_type": "code",
   "execution_count": null,
   "metadata": {},
   "outputs": [],
   "source": [
    "general[\"year\"].unique()"
   ]
  },
  {
   "cell_type": "code",
   "execution_count": null,
   "metadata": {},
   "outputs": [],
   "source": [
    "general.shape"
   ]
  },
  {
   "cell_type": "code",
   "execution_count": null,
   "metadata": {},
   "outputs": [],
   "source": [
    "general = general.drop(['explicit', 'key', 'mode'], axis=1)"
   ]
  },
  {
   "cell_type": "code",
   "execution_count": null,
   "metadata": {},
   "outputs": [],
   "source": [
    "general.isnull().sum()"
   ]
  },
  {
   "cell_type": "code",
   "execution_count": null,
   "metadata": {},
   "outputs": [],
   "source": [
    "general.isna().sum()"
   ]
  },
  {
   "cell_type": "code",
   "execution_count": null,
   "metadata": {},
   "outputs": [],
   "source": [
    "data_genre.head()"
   ]
  },
  {
   "cell_type": "code",
   "execution_count": null,
   "metadata": {},
   "outputs": [],
   "source": [
    "data_genre = data_genre.drop(['key', 'mode'], axis=1)"
   ]
  },
  {
   "cell_type": "code",
   "execution_count": null,
   "metadata": {},
   "outputs": [],
   "source": [
    "data_year.head()"
   ]
  },
  {
   "cell_type": "code",
   "execution_count": null,
   "metadata": {},
   "outputs": [],
   "source": [
    "data_year = data_year.drop(['key', 'mode'], axis=1)"
   ]
  },
  {
   "cell_type": "code",
   "execution_count": null,
   "metadata": {},
   "outputs": [],
   "source": [
    "data_year['year'].unique()"
   ]
  },
  {
   "cell_type": "code",
   "execution_count": null,
   "metadata": {},
   "outputs": [],
   "source": [
    "data_year = data_year[data_year['year'] >= 2000]"
   ]
  },
  {
   "cell_type": "code",
   "execution_count": null,
   "metadata": {},
   "outputs": [],
   "source": [
    "data_year['year'].unique()"
   ]
  },
  {
   "cell_type": "code",
   "execution_count": null,
   "metadata": {},
   "outputs": [],
   "source": [
    "data_year.reset_index(drop=True, inplace=True)"
   ]
  },
  {
   "cell_type": "code",
   "execution_count": null,
   "metadata": {},
   "outputs": [],
   "source": [
    "import plotly.express as px\n",
    "\n",
    "fig = px.line(data_year, x=\"year\", y=\"loudness\", title='Loudness over the years')\n",
    "# fig.show() # Loudness over the years.png"
   ]
  },
  {
   "cell_type": "code",
   "execution_count": null,
   "metadata": {},
   "outputs": [],
   "source": [
    "import plotly.graph_objects as go\n",
    "\n",
    "fig = go.Figure()\n",
    "\n",
    "fig.add_trace(go.Scatter(x=data_year['year'], y=data_year['acousticness'], name='Acousticness'))\n",
    "fig.add_trace(go.Scatter(x=data_year['year'], y=data_year['valence'], name='Valence'))\n",
    "fig.add_trace(go.Scatter(x=data_year['year'], y=data_year['danceability'], name='Danceability'))\n",
    "fig.add_trace(go.Scatter(x=data_year['year'], y=data_year['energy'], name='Energy'))\n",
    "fig.add_trace(go.Scatter(x=data_year['year'], y=data_year['liveness'], name='Liveness'))\n",
    "fig.add_trace(go.Scatter(x=data_year['year'], y=data_year['speechiness'], name='Speechiness'))\n",
    "fig.add_trace(go.Scatter(x=data_year['year'], y=data_year['instrumentalness'], name='Instrumentalness'))\n",
    "\n",
    "# plot_trace.png"
   ]
  },
  {
   "cell_type": "code",
   "execution_count": null,
   "metadata": {},
   "outputs": [],
   "source": [
    "fig = px.imshow(data_year.corr(), title='Correlation between features', text_auto=True)\n",
    "\n",
    "# fig.show() # plot_corr.png"
   ]
  },
  {
   "cell_type": "code",
   "execution_count": null,
   "metadata": {},
   "outputs": [],
   "source": [
    "data_genre['genres'].value_counts().sum()"
   ]
  },
  {
   "cell_type": "code",
   "execution_count": null,
   "metadata": {},
   "outputs": [],
   "source": [
    "data_genre_1 = data_genre.drop(['genres'], axis=1)"
   ]
  },
  {
   "cell_type": "code",
   "execution_count": null,
   "metadata": {},
   "outputs": [],
   "source": [
    "from sklearn.pipeline import Pipeline\n",
    "from sklearn.preprocessing import StandardScaler\n",
    "from sklearn.decomposition import PCA\n",
    "\n",
    "SEED = 1224\n",
    "np.random.seed(SEED)\n",
    "\n",
    "pca_pipeline = Pipeline([('scaler', StandardScaler()), ('pca', PCA(n_components=2, random_state=SEED))])"
   ]
  },
  {
   "cell_type": "code",
   "execution_count": null,
   "metadata": {},
   "outputs": [],
   "source": [
    "genre_embedding_pca = pca_pipeline.fit_transform(data_genre_1)\n",
    "projection = pd.DataFrame(columns=['x', 'y'], data=genre_embedding_pca)"
   ]
  },
  {
   "cell_type": "code",
   "execution_count": null,
   "metadata": {},
   "outputs": [],
   "source": [
    "projection"
   ]
  },
  {
   "cell_type": "code",
   "execution_count": null,
   "metadata": {},
   "outputs": [],
   "source": [
    "from sklearn.cluster import KMeans\n",
    "\n",
    "kmeans_pca = KMeans(n_clusters=5, random_state=SEED, n_init=10)\n",
    "\n",
    "kmeans_pca.fit(projection)\n",
    "\n",
    "data_genre['cluster_pca'] = kmeans_pca.predict(projection)\n",
    "\n",
    "projection['cluster_pca'] = data_genre['cluster_pca']"
   ]
  },
  {
   "cell_type": "code",
   "execution_count": null,
   "metadata": {},
   "outputs": [],
   "source": [
    "projection"
   ]
  },
  {
   "cell_type": "code",
   "execution_count": null,
   "metadata": {},
   "outputs": [],
   "source": [
    "projection['genres'] = data_genre['genres']"
   ]
  },
  {
   "cell_type": "code",
   "execution_count": null,
   "metadata": {},
   "outputs": [],
   "source": [
    "projection"
   ]
  },
  {
   "cell_type": "code",
   "execution_count": null,
   "metadata": {},
   "outputs": [],
   "source": [
    "fig = px.scatter(projection, x='x', y='y', color='cluster_pca', hover_data=['x', 'y', 'genres'])\n",
    "\n",
    "# fig.show() # plot_cluster.png"
   ]
  },
  {
   "cell_type": "code",
   "execution_count": null,
   "metadata": {},
   "outputs": [],
   "source": [
    "pca_pipeline[1].explained_variance_ratio_.sum()"
   ]
  },
  {
   "cell_type": "code",
   "execution_count": null,
   "metadata": {},
   "outputs": [],
   "source": [
    "pca_pipeline[1].explained_variance_.sum()"
   ]
  },
  {
   "cell_type": "code",
   "execution_count": null,
   "metadata": {},
   "outputs": [],
   "source": [
    "general.head()"
   ]
  },
  {
   "cell_type": "code",
   "execution_count": null,
   "metadata": {},
   "outputs": [],
   "source": [
    "general.value_counts('artists')"
   ]
  },
  {
   "cell_type": "code",
   "execution_count": null,
   "metadata": {},
   "outputs": [],
   "source": [
    "general.value_counts('artists_song')"
   ]
  },
  {
   "cell_type": "code",
   "execution_count": null,
   "metadata": {},
   "outputs": [],
   "source": [
    "# OneHotEncoder - OneHotEncoder is used to encode categorical integer features as a one-hot numeric array. (0, 1)\n",
    "from sklearn.preprocessing import OneHotEncoder\n",
    "\n",
    "# Defino o objeto ohe, o tipo de dado que será retornado é inteiro, e a coluna que será transformada no caso é a 'artists'\n",
    "ohe = OneHotEncoder(dtype=int)\n",
    "artists_encoded = ohe.fit_transform(general[['artists']]).toarray()\n",
    "\n",
    "general_2 = general.drop(['artists'], axis=1)\n",
    "\n",
    "general_musics_dummies = pd.concat([general_2, pd.DataFrame(artists_encoded, columns=ohe.get_feature_names_out(['artists']))], axis=1)\n",
    "general_musics_dummies"
   ]
  },
  {
   "cell_type": "code",
   "execution_count": null,
   "metadata": {},
   "outputs": [],
   "source": [
    "pca_pipeline = Pipeline([('scaler', StandardScaler()), ('pca', PCA(n_components=0.7, random_state=SEED))])\n",
    "\n",
    "music_embedding_pca = pca_pipeline.fit_transform(general_musics_dummies.drop(['id','name','artists_song'], axis=1))\n",
    "projection_music = pd.DataFrame(data=music_embedding_pca)"
   ]
  },
  {
   "cell_type": "code",
   "execution_count": null,
   "metadata": {},
   "outputs": [],
   "source": [
    "pca_pipeline[1].n_components_"
   ]
  },
  {
   "cell_type": "code",
   "execution_count": null,
   "metadata": {},
   "outputs": [],
   "source": [
    "kmeans_pca_pipeline = KMeans(n_clusters=50, verbose=False, random_state=SEED)\n",
    "\n",
    "kmeans_pca_pipeline.fit(projection_music)\n",
    "\n",
    "general['cluster_pca'] = kmeans_pca_pipeline.predict(projection_music)\n",
    "projection_music['cluster_pca'] = kmeans_pca_pipeline.predict(projection_music)"
   ]
  },
  {
   "cell_type": "code",
   "execution_count": null,
   "metadata": {},
   "outputs": [],
   "source": [
    "projection_music['artists'] = general['artists']\n",
    "projection_music['song'] = general['artists_song']\n",
    "\n",
    "projection_music"
   ]
  },
  {
   "cell_type": "code",
   "execution_count": null,
   "metadata": {},
   "outputs": [],
   "source": [
    "fig = px.scatter(projection_music, x=0, y=1, color='cluster_pca', hover_data=[0,1, 'song'])\n",
    "\n",
    "#fig.show() #plot_cluster_music.png"
   ]
  },
  {
   "cell_type": "code",
   "execution_count": null,
   "metadata": {},
   "outputs": [],
   "source": [
    "#fig = px.scatter_3d(projection_music, x=0, y=1, z=2, color='cluster_pca',hover_data=['song'])\n",
    "#fig.update_traces(marker_size = 2)\n",
    "#fig.show()"
   ]
  },
  {
   "cell_type": "markdown",
   "metadata": {},
   "source": [
    "RECOMENDADOR"
   ]
  },
  {
   "cell_type": "code",
   "execution_count": 85,
   "metadata": {},
   "outputs": [],
   "source": [
    "artist = 'Slipknot'"
   ]
  },
  {
   "cell_type": "code",
   "execution_count": null,
   "metadata": {},
   "outputs": [],
   "source": [
    "projection_music[projection_music['artists'] == artist]"
   ]
  },
  {
   "cell_type": "code",
   "execution_count": null,
   "metadata": {},
   "outputs": [],
   "source": [
    "music_name = 'Slipknot - Before I Forget'\n",
    "\n",
    "projection_music[projection_music['song'] == music_name]"
   ]
  },
  {
   "cell_type": "code",
   "execution_count": null,
   "metadata": {},
   "outputs": [],
   "source": [
    "cluster = list(projection_music[projection_music['song'] == music_name]['cluster_pca'])[0]\n",
    "\n",
    "cluster"
   ]
  },
  {
   "cell_type": "code",
   "execution_count": null,
   "metadata": {},
   "outputs": [],
   "source": [
    "from sklearn.metrics.pairwise import euclidean_distances\n",
    "\n",
    "recommendations = projection_music[projection_music['cluster_pca'] == cluster][[0,1,'song']]\n",
    "\n",
    "x_music = list(projection_music[projection_music['song'] == music_name][0])[0]\n",
    "y_music = list(projection_music[projection_music['song'] == music_name][1])[0]\n",
    "\n",
    "# Distancia euclidiana\n",
    "distances = euclidean_distances(recommendations[[0,1]], [[x_music, y_music]])\n",
    "\n",
    "recommendations['id'] = general['id']\n",
    "recommendations['distance'] = distances\n",
    "\n",
    "recommendations = recommendations.sort_values('distance').head(10) # As mais recomendadas são as primeiras da lista, ordenado pela distancia euclidiana\n",
    "\n",
    "recommendations"
   ]
  },
  {
   "cell_type": "code",
   "execution_count": null,
   "metadata": {},
   "outputs": [],
   "source": [
    "# Spotipy\n",
    "import spotipy\n",
    "from spotipy.oauth2 import SpotifyClientCredentials, SpotifyOAuth\n",
    "\n",
    "# Definindo as credenciais\n",
    "client_id = '5465959bb5ee4dfdac8fe6048f015511'\n",
    "client_secret = 'client_secret'\n",
    "scope = 'user-library-read playlist-modify-private'\n",
    "\n",
    "OAuth = SpotifyOAuth(client_id=client_id, client_secret=client_secret, scope=scope, redirect_uri='http://localhost:8888/callback')\n",
    "\n",
    "client_credentials_manager = SpotifyClientCredentials(client_id=client_id, client_secret=client_secret)\n",
    "sp = spotipy.Spotify(client_credentials_manager=client_credentials_manager, auth_manager=OAuth)"
   ]
  },
  {
   "cell_type": "code",
   "execution_count": null,
   "metadata": {},
   "outputs": [],
   "source": [
    "import matplotlib.pyplot as plt\n",
    "from skimage import io\n",
    "\n",
    "music_name = 'Slipknot - Before I Forget'\n",
    "id = general[general['artists_song'] == music_name]['id'].iloc[0]\n",
    "track = sp.track(id)\n",
    "url = track['album']['images'][0]['url']\n",
    "name = track['name']\n",
    "\n",
    "image = io.imread(url)\n",
    "plt.imshow(image)\n",
    "plt.xlabel(name, fontsize=20)\n",
    "plt.show() # Slipknot - Before I Forget.png"
   ]
  },
  {
   "cell_type": "code",
   "execution_count": 58,
   "metadata": {},
   "outputs": [],
   "source": [
    "def recommended_id(playlist_id):\n",
    "    url = []\n",
    "    name = []\n",
    "    for id in playlist_id:\n",
    "        track = sp.track(id)\n",
    "        url.append(track['album']['images'][0]['url'])\n",
    "        name.append(track['name'])\n",
    "    return url, name"
   ]
  },
  {
   "cell_type": "code",
   "execution_count": 60,
   "metadata": {},
   "outputs": [],
   "source": [
    "url, name = recommended_id(recommendations['id'])"
   ]
  },
  {
   "cell_type": "code",
   "execution_count": 73,
   "metadata": {},
   "outputs": [],
   "source": [
    "def plot_recommended(url, name):\n",
    "    \n",
    "    plt.figure(figsize=(15, 10))\n",
    "    columns = 5\n",
    "    \n",
    "    for n, u in enumerate(url):\n",
    "        ax = plt.subplot(len(url) // columns + 1, columns, n + 1)\n",
    "        image = io.imread(u)\n",
    "        plt.imshow(image)\n",
    "        ax.get_yaxis().set_visible(False)\n",
    "        plt.xticks(color='w')\n",
    "        plt.yticks(color='w')\n",
    "        plt.xlabel(name[n], fontsize = 8)\n",
    "        plt.tight_layout(h_pad=0.7, w_pad=0)\n",
    "        plt.tick_params(bottom=False, left=False)\n",
    "        plt.grid(False)\n",
    "    plt.show()\n",
    "        "
   ]
  },
  {
   "cell_type": "code",
   "execution_count": null,
   "metadata": {},
   "outputs": [],
   "source": [
    "plot_recommended(url, name) # top10_recommended.png"
   ]
  },
  {
   "cell_type": "markdown",
   "metadata": {},
   "source": [
    "Final Product"
   ]
  },
  {
   "cell_type": "code",
   "execution_count": 77,
   "metadata": {},
   "outputs": [],
   "source": [
    "def recommender(music_name):\n",
    "    ## Cluster da música escolhida\n",
    "    cluster = list(projection_music[projection_music['song'] == music_name]['cluster_pca'])[0]\n",
    "    recommendations = projection_music[projection_music['cluster_pca'] == cluster][[0,1,'song']]\n",
    "    ## Coordenadas da música escolhida\n",
    "    x_music = list(projection_music[projection_music['song'] == music_name][0])[0]\n",
    "    y_music = list(projection_music[projection_music['song'] == music_name][1])[0]\n",
    "    ## Distancia euclidiana\n",
    "    distances = euclidean_distances(recommendations[[0,1]], [[x_music, y_music]])\n",
    "    ## Adicionando as colunas id e distance\n",
    "    recommendations['id'] = general['id']\n",
    "    recommendations['distance'] = distances\n",
    "    ## Ordenando as recomendações\n",
    "    recommendations = recommendations.sort_values('distance').head(10)\n",
    "    \n",
    "    ## Retornando as recomendações\n",
    "    playlist_id = recommendations['id']\n",
    "    \n",
    "    url = []\n",
    "    name = []\n",
    "    for id in playlist_id:\n",
    "        track = sp.track(id)\n",
    "        url.append(track['album']['images'][0]['url'])\n",
    "        name.append(track['name'])\n",
    "        \n",
    "    plt.figure(figsize=(15, 10))\n",
    "    columns = 5\n",
    "    \n",
    "    ## Plotando as recomendações\n",
    "    for n, u in enumerate(url):\n",
    "        ax = plt.subplot(len(url) // columns + 1, columns, n + 1)\n",
    "        image = io.imread(u)\n",
    "        plt.imshow(image)\n",
    "        ax.get_yaxis().set_visible(False)\n",
    "        plt.xticks(color='w')\n",
    "        plt.yticks(color='w')\n",
    "        plt.xlabel(name[n], fontsize = 8)\n",
    "        plt.tight_layout(h_pad=0.7, w_pad=0)\n",
    "        plt.tick_params(bottom=False, left=False)\n",
    "        plt.grid(False)\n",
    "    plt.show()"
   ]
  },
  {
   "cell_type": "code",
   "execution_count": null,
   "metadata": {},
   "outputs": [],
   "source": [
    "artist = 'Green Day'\n",
    "projection_music[projection_music['artists'] == artist]"
   ]
  },
  {
   "cell_type": "code",
   "execution_count": null,
   "metadata": {},
   "outputs": [],
   "source": [
    "recommender('Green Day - American Idiot') # Green Day - American Idiot_recommended.png"
   ]
  }
 ],
 "metadata": {
  "kernelspec": {
   "display_name": "Python 3",
   "language": "python",
   "name": "python3"
  },
  "language_info": {
   "codemirror_mode": {
    "name": "ipython",
    "version": 3
   },
   "file_extension": ".py",
   "mimetype": "text/x-python",
   "name": "python",
   "nbconvert_exporter": "python",
   "pygments_lexer": "ipython3",
   "version": "3.11.2"
  },
  "orig_nbformat": 4
 },
 "nbformat": 4,
 "nbformat_minor": 2
}
