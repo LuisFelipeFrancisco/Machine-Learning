{
 "cells": [
  {
   "cell_type": "code",
   "execution_count": 1,
   "metadata": {},
   "outputs": [
    {
     "data": {
      "text/html": [
       "<div>\n",
       "<style scoped>\n",
       "    .dataframe tbody tr th:only-of-type {\n",
       "        vertical-align: middle;\n",
       "    }\n",
       "\n",
       "    .dataframe tbody tr th {\n",
       "        vertical-align: top;\n",
       "    }\n",
       "\n",
       "    .dataframe thead th {\n",
       "        text-align: right;\n",
       "    }\n",
       "</style>\n",
       "<table border=\"1\" class=\"dataframe\">\n",
       "  <thead>\n",
       "    <tr style=\"text-align: right;\">\n",
       "      <th></th>\n",
       "      <th>id</th>\n",
       "      <th>diagnostico</th>\n",
       "      <th>exame_1</th>\n",
       "      <th>exame_2</th>\n",
       "      <th>exame_3</th>\n",
       "      <th>exame_4</th>\n",
       "      <th>exame_5</th>\n",
       "      <th>exame_6</th>\n",
       "      <th>exame_7</th>\n",
       "      <th>exame_8</th>\n",
       "      <th>...</th>\n",
       "      <th>exame_24</th>\n",
       "      <th>exame_25</th>\n",
       "      <th>exame_26</th>\n",
       "      <th>exame_27</th>\n",
       "      <th>exame_28</th>\n",
       "      <th>exame_29</th>\n",
       "      <th>exame_30</th>\n",
       "      <th>exame_31</th>\n",
       "      <th>exame_32</th>\n",
       "      <th>exame_33</th>\n",
       "    </tr>\n",
       "  </thead>\n",
       "  <tbody>\n",
       "    <tr>\n",
       "      <th>0</th>\n",
       "      <td>842302</td>\n",
       "      <td>M</td>\n",
       "      <td>17.99</td>\n",
       "      <td>10.38</td>\n",
       "      <td>122.80</td>\n",
       "      <td>103.78</td>\n",
       "      <td>1001.0</td>\n",
       "      <td>0.11840</td>\n",
       "      <td>0.27760</td>\n",
       "      <td>0.3001</td>\n",
       "      <td>...</td>\n",
       "      <td>184.60</td>\n",
       "      <td>2019.0</td>\n",
       "      <td>0.1622</td>\n",
       "      <td>0.6656</td>\n",
       "      <td>0.7119</td>\n",
       "      <td>0.786</td>\n",
       "      <td>0.2654</td>\n",
       "      <td>0.4601</td>\n",
       "      <td>0.11890</td>\n",
       "      <td>NaN</td>\n",
       "    </tr>\n",
       "    <tr>\n",
       "      <th>1</th>\n",
       "      <td>842517</td>\n",
       "      <td>M</td>\n",
       "      <td>20.57</td>\n",
       "      <td>17.77</td>\n",
       "      <td>132.90</td>\n",
       "      <td>103.78</td>\n",
       "      <td>1326.0</td>\n",
       "      <td>0.08474</td>\n",
       "      <td>0.07864</td>\n",
       "      <td>0.0869</td>\n",
       "      <td>...</td>\n",
       "      <td>158.80</td>\n",
       "      <td>1956.0</td>\n",
       "      <td>0.1238</td>\n",
       "      <td>0.1866</td>\n",
       "      <td>0.2416</td>\n",
       "      <td>0.786</td>\n",
       "      <td>0.1860</td>\n",
       "      <td>0.2750</td>\n",
       "      <td>0.08902</td>\n",
       "      <td>NaN</td>\n",
       "    </tr>\n",
       "    <tr>\n",
       "      <th>2</th>\n",
       "      <td>84300903</td>\n",
       "      <td>M</td>\n",
       "      <td>19.69</td>\n",
       "      <td>21.25</td>\n",
       "      <td>130.00</td>\n",
       "      <td>103.78</td>\n",
       "      <td>1203.0</td>\n",
       "      <td>0.10960</td>\n",
       "      <td>0.15990</td>\n",
       "      <td>0.1974</td>\n",
       "      <td>...</td>\n",
       "      <td>152.50</td>\n",
       "      <td>1709.0</td>\n",
       "      <td>0.1444</td>\n",
       "      <td>0.4245</td>\n",
       "      <td>0.4504</td>\n",
       "      <td>0.786</td>\n",
       "      <td>0.2430</td>\n",
       "      <td>0.3613</td>\n",
       "      <td>0.08758</td>\n",
       "      <td>NaN</td>\n",
       "    </tr>\n",
       "    <tr>\n",
       "      <th>3</th>\n",
       "      <td>84348301</td>\n",
       "      <td>M</td>\n",
       "      <td>11.42</td>\n",
       "      <td>20.38</td>\n",
       "      <td>77.58</td>\n",
       "      <td>103.78</td>\n",
       "      <td>386.1</td>\n",
       "      <td>0.14250</td>\n",
       "      <td>0.28390</td>\n",
       "      <td>0.2414</td>\n",
       "      <td>...</td>\n",
       "      <td>98.87</td>\n",
       "      <td>567.7</td>\n",
       "      <td>0.2098</td>\n",
       "      <td>0.8663</td>\n",
       "      <td>0.6869</td>\n",
       "      <td>0.786</td>\n",
       "      <td>0.2575</td>\n",
       "      <td>0.6638</td>\n",
       "      <td>0.17300</td>\n",
       "      <td>NaN</td>\n",
       "    </tr>\n",
       "    <tr>\n",
       "      <th>4</th>\n",
       "      <td>84358402</td>\n",
       "      <td>M</td>\n",
       "      <td>20.29</td>\n",
       "      <td>14.34</td>\n",
       "      <td>135.10</td>\n",
       "      <td>103.78</td>\n",
       "      <td>1297.0</td>\n",
       "      <td>0.10030</td>\n",
       "      <td>0.13280</td>\n",
       "      <td>0.1980</td>\n",
       "      <td>...</td>\n",
       "      <td>152.20</td>\n",
       "      <td>1575.0</td>\n",
       "      <td>0.1374</td>\n",
       "      <td>0.2050</td>\n",
       "      <td>0.4000</td>\n",
       "      <td>0.786</td>\n",
       "      <td>0.1625</td>\n",
       "      <td>0.2364</td>\n",
       "      <td>0.07678</td>\n",
       "      <td>0.854454</td>\n",
       "    </tr>\n",
       "  </tbody>\n",
       "</table>\n",
       "<p>5 rows × 35 columns</p>\n",
       "</div>"
      ],
      "text/plain": [
       "         id diagnostico  exame_1  exame_2  exame_3  exame_4  exame_5  exame_6   \n",
       "0    842302           M    17.99    10.38   122.80   103.78   1001.0  0.11840  \\\n",
       "1    842517           M    20.57    17.77   132.90   103.78   1326.0  0.08474   \n",
       "2  84300903           M    19.69    21.25   130.00   103.78   1203.0  0.10960   \n",
       "3  84348301           M    11.42    20.38    77.58   103.78    386.1  0.14250   \n",
       "4  84358402           M    20.29    14.34   135.10   103.78   1297.0  0.10030   \n",
       "\n",
       "   exame_7  exame_8  ...  exame_24  exame_25  exame_26  exame_27  exame_28   \n",
       "0  0.27760   0.3001  ...    184.60    2019.0    0.1622    0.6656    0.7119  \\\n",
       "1  0.07864   0.0869  ...    158.80    1956.0    0.1238    0.1866    0.2416   \n",
       "2  0.15990   0.1974  ...    152.50    1709.0    0.1444    0.4245    0.4504   \n",
       "3  0.28390   0.2414  ...     98.87     567.7    0.2098    0.8663    0.6869   \n",
       "4  0.13280   0.1980  ...    152.20    1575.0    0.1374    0.2050    0.4000   \n",
       "\n",
       "   exame_29  exame_30  exame_31  exame_32  exame_33  \n",
       "0     0.786    0.2654    0.4601   0.11890       NaN  \n",
       "1     0.786    0.1860    0.2750   0.08902       NaN  \n",
       "2     0.786    0.2430    0.3613   0.08758       NaN  \n",
       "3     0.786    0.2575    0.6638   0.17300       NaN  \n",
       "4     0.786    0.1625    0.2364   0.07678  0.854454  \n",
       "\n",
       "[5 rows x 35 columns]"
      ]
     },
     "execution_count": 1,
     "metadata": {},
     "output_type": "execute_result"
    }
   ],
   "source": [
    "import pandas as pd\n",
    "\n",
    "# Lendo o arquivo csv\n",
    "resultados_exames = pd.read_csv('data\\exames.csv')\n",
    "\n",
    "# Visualizando as 5 primeiras linhas\n",
    "resultados_exames.head()"
   ]
  },
  {
   "cell_type": "code",
   "execution_count": 2,
   "metadata": {},
   "outputs": [
    {
     "data": {
      "text/plain": [
       "id               0\n",
       "diagnostico      0\n",
       "exame_1          0\n",
       "exame_2          0\n",
       "exame_3          0\n",
       "exame_4          0\n",
       "exame_5          0\n",
       "exame_6          0\n",
       "exame_7          0\n",
       "exame_8          0\n",
       "exame_9          0\n",
       "exame_10         0\n",
       "exame_11         0\n",
       "exame_12         0\n",
       "exame_13         0\n",
       "exame_14         0\n",
       "exame_15         0\n",
       "exame_16         0\n",
       "exame_17         0\n",
       "exame_18         0\n",
       "exame_19         0\n",
       "exame_20         0\n",
       "exame_21         0\n",
       "exame_22         0\n",
       "exame_23         0\n",
       "exame_24         0\n",
       "exame_25         0\n",
       "exame_26         0\n",
       "exame_27         0\n",
       "exame_28         0\n",
       "exame_29         0\n",
       "exame_30         0\n",
       "exame_31         0\n",
       "exame_32         0\n",
       "exame_33       419\n",
       "dtype: int64"
      ]
     },
     "execution_count": 2,
     "metadata": {},
     "output_type": "execute_result"
    }
   ],
   "source": [
    "# verificando os valores nulos\n",
    "resultados_exames.isnull().sum()"
   ]
  },
  {
   "cell_type": "code",
   "execution_count": 3,
   "metadata": {},
   "outputs": [
    {
     "data": {
      "text/plain": [
       "id             0\n",
       "diagnostico    0\n",
       "exame_1        0\n",
       "exame_2        0\n",
       "exame_3        0\n",
       "exame_4        0\n",
       "exame_5        0\n",
       "exame_6        0\n",
       "exame_7        0\n",
       "exame_8        0\n",
       "exame_9        0\n",
       "exame_10       0\n",
       "exame_11       0\n",
       "exame_12       0\n",
       "exame_13       0\n",
       "exame_14       0\n",
       "exame_15       0\n",
       "exame_16       0\n",
       "exame_17       0\n",
       "exame_18       0\n",
       "exame_19       0\n",
       "exame_20       0\n",
       "exame_21       0\n",
       "exame_22       0\n",
       "exame_23       0\n",
       "exame_24       0\n",
       "exame_25       0\n",
       "exame_26       0\n",
       "exame_27       0\n",
       "exame_28       0\n",
       "exame_29       0\n",
       "exame_30       0\n",
       "exame_31       0\n",
       "exame_32       0\n",
       "dtype: int64"
      ]
     },
     "execution_count": 3,
     "metadata": {},
     "output_type": "execute_result"
    }
   ],
   "source": [
    "resultados_exames = resultados_exames.drop(columns='exame_33')\n",
    "resultados_exames.isnull().sum()"
   ]
  },
  {
   "cell_type": "code",
   "execution_count": 4,
   "metadata": {},
   "outputs": [],
   "source": [
    "from sklearn.model_selection import train_test_split\n",
    "from numpy import random\n",
    "\n",
    "SEED = 123143\n",
    "random.seed(SEED)\n",
    "\n",
    "# Separando os dados de treino e teste\n",
    "exames = resultados_exames.drop(columns=['id', 'diagnostico'])\n",
    "diagnostico = resultados_exames.diagnostico\n",
    "\n",
    "# Separando os dados de treino e teste\n",
    "x_treino, x_teste, y_treino, y_teste = train_test_split(exames, diagnostico, test_size=0.3)"
   ]
  },
  {
   "attachments": {},
   "cell_type": "markdown",
   "metadata": {},
   "source": [
    "Random Forest\n",
    "\n",
    "Random Forest é um algoritmo de aprendizado supervisionado. A \"floresta\" que ele constrói, é um conjunto de Árvores de Decisão, geralmente treinadas com o método de \"bagging\". A ideia geral do método de bagging é que a combinação de modelos de aprendizado aumenta o resultado geral."
   ]
  },
  {
   "cell_type": "code",
   "execution_count": 5,
   "metadata": {},
   "outputs": [
    {
     "name": "stdout",
     "output_type": "stream",
     "text": [
      "Random Forest: 92.40%\n"
     ]
    }
   ],
   "source": [
    "from sklearn.ensemble import RandomForestClassifier\n",
    "\n",
    "# Criando o modelo\n",
    "random_forest_model = RandomForestClassifier(n_estimators=100) # n_estimators = número de árvores\n",
    "\n",
    "random_forest_model.fit(x_treino, y_treino) # Treinando o modelo\n",
    "\n",
    "print(f'Random Forest: {random_forest_model.score(x_teste, y_teste) * 100:.2f}%')"
   ]
  },
  {
   "attachments": {},
   "cell_type": "markdown",
   "metadata": {},
   "source": [
    "Baseline\n",
    "\n",
    "A baseline é o modelo que usaremos como comparação para os outros modelos.\n",
    "\n",
    "O DummyClassifier é um classificador que faz previsões usando regras simples e que serve como baseline para outros classificadores."
   ]
  },
  {
   "cell_type": "code",
   "execution_count": 6,
   "metadata": {},
   "outputs": [
    {
     "name": "stdout",
     "output_type": "stream",
     "text": [
      "Dummy: 66.67%\n"
     ]
    }
   ],
   "source": [
    "from sklearn.dummy import DummyClassifier\n",
    "\n",
    "# Criando o modelo\n",
    "dummy_model = DummyClassifier(strategy='most_frequent')\n",
    "\n",
    "dummy_model.fit(x_treino, y_treino) # Treinando o modelo\n",
    "\n",
    "print(f'Dummy: {dummy_model.score(x_teste, y_teste) * 100:.2f}%')"
   ]
  },
  {
   "attachments": {},
   "cell_type": "markdown",
   "metadata": {},
   "source": [
    "Violin Plot\n",
    "\n",
    "Violin Plot é um gráfico que combina um boxplot e um gráfico de densidade. Ele mostra a distribuição de dados em diferentes níveis de uma variável categórica."
   ]
  },
  {
   "cell_type": "code",
   "execution_count": null,
   "metadata": {},
   "outputs": [],
   "source": [
    "import seaborn as sns\n",
    "import matplotlib.pyplot as plt\n",
    "\n",
    "dados_plot = pd.concat([diagnostico, exames.iloc[:,0:10]], axis=1)\n",
    "dados_plot = pd.melt(dados_plot, id_vars='diagnostico', var_name='exames', value_name='valores')\n",
    "\n",
    "plt.figure(figsize=(20, 20))\n",
    "\n",
    "sns.violinplot(x='exames', y='valores', hue='diagnostico', data=dados_plot)\n",
    "plt.xticks(rotation=90)\n",
    "\n",
    "plt.show() # violinplot01.png"
   ]
  },
  {
   "cell_type": "code",
   "execution_count": null,
   "metadata": {},
   "outputs": [],
   "source": [
    "from sklearn.preprocessing import StandardScaler\n",
    "\n",
    "scaler = StandardScaler()\n",
    "\n",
    "scaler.fit(exames) # Calculando a média e o desvio padrão\n",
    "\n",
    "exames_escalados = scaler.transform(exames) # Aplicando a padronização\n",
    "\n",
    "exames_escalados = pd.DataFrame(exames_escalados, columns=exames.keys()) # Transformando em dataframe\n",
    "\n",
    "dados_plot = pd.concat([diagnostico, exames_escalados.iloc[:,0:10]], axis=1)\n",
    "dados_plot = pd.melt(dados_plot, id_vars='diagnostico', var_name='exames', value_name='valores')\n",
    "\n",
    "plt.figure(figsize=(20, 20))\n",
    "\n",
    "sns.violinplot(x='exames', y='valores', hue='diagnostico', data=dados_plot, split=True)\n",
    "plt.xticks(rotation=90)\n",
    "\n",
    "plt.show() # violinplot02.png"
   ]
  },
  {
   "cell_type": "code",
   "execution_count": 9,
   "metadata": {},
   "outputs": [
    {
     "data": {
      "text/plain": [
       "0      103.78\n",
       "1      103.78\n",
       "2      103.78\n",
       "3      103.78\n",
       "4      103.78\n",
       "        ...  \n",
       "564    103.78\n",
       "565    103.78\n",
       "566    103.78\n",
       "567    103.78\n",
       "568    103.78\n",
       "Name: exame_4, Length: 569, dtype: float64"
      ]
     },
     "execution_count": 9,
     "metadata": {},
     "output_type": "execute_result"
    }
   ],
   "source": [
    "exames.exame_4 # Visualizando os dados da coluna exame_4, são dados constantes"
   ]
  },
  {
   "cell_type": "code",
   "execution_count": 10,
   "metadata": {},
   "outputs": [],
   "source": [
    "def violingraph (valores, inicio, fim):\n",
    "    \n",
    "    dados_plot = pd.concat([diagnostico, exames_escalados.iloc[:,inicio:fim]], axis=1)\n",
    "    dados_plot = pd.melt(dados_plot, id_vars='diagnostico', var_name='exames', value_name='valores')\n",
    "    \n",
    "    plt.figure(figsize=(20, 20))\n",
    "    \n",
    "    sns.violinplot(x='exames', y='valores', hue='diagnostico', data=dados_plot, split=True)\n",
    "    plt.xticks(rotation=90)\n",
    "    \n",
    "    plt.show()"
   ]
  },
  {
   "cell_type": "code",
   "execution_count": null,
   "metadata": {},
   "outputs": [],
   "source": [
    "violingraph(exames_escalados, 10, 21) # violinplot03.png"
   ]
  },
  {
   "cell_type": "code",
   "execution_count": null,
   "metadata": {},
   "outputs": [],
   "source": [
    "violingraph(exames_escalados, 21, 32) # violinplot04.png"
   ]
  },
  {
   "cell_type": "code",
   "execution_count": 13,
   "metadata": {},
   "outputs": [],
   "source": [
    "exames_v3 = exames_escalados.drop(columns=['exame_4', 'exame_29']) # Removendo as colunas constantes"
   ]
  },
  {
   "cell_type": "code",
   "execution_count": 14,
   "metadata": {},
   "outputs": [],
   "source": [
    "def classifier (valores):\n",
    "    \n",
    "    SEED = 1234\n",
    "    random.seed(SEED)\n",
    "    x_treino, x_teste, y_treino, y_teste = train_test_split(valores, diagnostico, test_size=0.3)\n",
    "    \n",
    "    random_forest_model = RandomForestClassifier(n_estimators=100)\n",
    "    random_forest_model.fit(x_treino, y_treino)\n",
    "    \n",
    "    print(f'Random Forest: {random_forest_model.score(x_teste, y_teste) * 100:.2f}%')"
   ]
  },
  {
   "cell_type": "code",
   "execution_count": 15,
   "metadata": {},
   "outputs": [
    {
     "name": "stdout",
     "output_type": "stream",
     "text": [
      "Random Forest: 92.98%\n"
     ]
    }
   ],
   "source": [
    "classifier(exames_v3)"
   ]
  },
  {
   "cell_type": "code",
   "execution_count": null,
   "metadata": {},
   "outputs": [],
   "source": [
    "sns.heatmap(exames_v3.corr()) # heatmap01.png"
   ]
  },
  {
   "cell_type": "code",
   "execution_count": null,
   "metadata": {},
   "outputs": [],
   "source": [
    "plt.figure(figsize=(20, 20))\n",
    "sns.heatmap(exames_v3.corr(), annot=True, fmt='.1f') # heatmap02.png"
   ]
  },
  {
   "cell_type": "code",
   "execution_count": 18,
   "metadata": {},
   "outputs": [
    {
     "data": {
      "text/plain": [
       "exame_1     1.997855\n",
       "exame_2     1.000000\n",
       "exame_3     1.997855\n",
       "exame_5     1.000000\n",
       "exame_6     1.000000\n",
       "exame_7     1.000000\n",
       "exame_8     1.000000\n",
       "exame_9     1.000000\n",
       "exame_10    1.000000\n",
       "exame_11    1.000000\n",
       "exame_12    1.000000\n",
       "exame_13    1.000000\n",
       "exame_14    1.000000\n",
       "exame_15    1.000000\n",
       "exame_16    1.000000\n",
       "exame_17    1.000000\n",
       "exame_18    1.000000\n",
       "exame_19    1.000000\n",
       "exame_20    1.000000\n",
       "exame_21    1.000000\n",
       "exame_22    1.993708\n",
       "exame_23    1.000000\n",
       "exame_24    1.993708\n",
       "exame_25    1.000000\n",
       "exame_26    1.000000\n",
       "exame_27    1.000000\n",
       "exame_28    1.000000\n",
       "exame_30    1.000000\n",
       "exame_31    1.000000\n",
       "exame_32    1.000000\n",
       "dtype: float64"
      ]
     },
     "execution_count": 18,
     "metadata": {},
     "output_type": "execute_result"
    }
   ],
   "source": [
    "correllation = exames_v3.corr()\n",
    "correllation_v1 = correllation[correllation > 0.99]\n",
    "correllation_v2 = correllation_v1.sum()\n",
    "correllation_v2"
   ]
  },
  {
   "cell_type": "code",
   "execution_count": 19,
   "metadata": {},
   "outputs": [
    {
     "data": {
      "text/plain": [
       "exame_1     1.997855\n",
       "exame_3     1.997855\n",
       "exame_22    1.993708\n",
       "exame_24    1.993708\n",
       "dtype: float64"
      ]
     },
     "execution_count": 19,
     "metadata": {},
     "output_type": "execute_result"
    }
   ],
   "source": [
    "correllation_v3 = correllation_v2[correllation_v2 > 1]\n",
    "correllation_v3"
   ]
  },
  {
   "cell_type": "code",
   "execution_count": 20,
   "metadata": {},
   "outputs": [
    {
     "name": "stdout",
     "output_type": "stream",
     "text": [
      "Random Forest: 92.98%\n"
     ]
    }
   ],
   "source": [
    "exames_v4 = exames_v3.drop(columns=['exame_3', 'exame_24']) # Removendo as colunas com correlação\n",
    "classifier(exames_v4)"
   ]
  },
  {
   "attachments": {},
   "cell_type": "markdown",
   "metadata": {},
   "source": [
    "SelectKBest\n",
    "\n",
    "SelectKBest é um método de seleção de features que remove todas as features, exceto os k mais altos."
   ]
  },
  {
   "cell_type": "code",
   "execution_count": 24,
   "metadata": {},
   "outputs": [],
   "source": [
    "exames_v5 = exames.drop(columns=['exame_4', 'exame_29', 'exame_3', 'exame_24']) # Removendo as colunas constantes e com correlação"
   ]
  },
  {
   "cell_type": "code",
   "execution_count": 30,
   "metadata": {},
   "outputs": [],
   "source": [
    "from sklearn.feature_selection import SelectKBest\n",
    "from sklearn.feature_selection import chi2\n",
    "\n",
    "SEED = 1234\n",
    "random.seed(SEED)\n",
    "\n",
    "selector = SelectKBest(chi2, k=5) # Selecionando as 5 melhores features\n",
    "\n",
    "x_treino, x_teste, y_treino, y_teste = train_test_split(exames_v5, diagnostico, test_size=0.3)\n",
    "\n",
    "selector.fit(x_treino, y_treino)\n",
    "train_kbest = selector.transform(x_treino)\n",
    "test_kbest = selector.transform(x_teste)"
   ]
  },
  {
   "cell_type": "code",
   "execution_count": 31,
   "metadata": {},
   "outputs": [
    {
     "name": "stdout",
     "output_type": "stream",
     "text": [
      "Random Forest: 92.40%\n"
     ]
    }
   ],
   "source": [
    "classifier = RandomForestClassifier(n_estimators=100, random_state=1234)\n",
    "classifier.fit(train_kbest, y_treino)\n",
    "\n",
    "print(f'Random Forest: {classifier.score(test_kbest, y_teste) * 100:.2f}%')"
   ]
  },
  {
   "attachments": {},
   "cell_type": "markdown",
   "metadata": {},
   "source": [
    "Confusion Matrix\n",
    "\n",
    "Confusion Matrix é uma tabela que mostra as frequências de classificação para cada classe do modelo."
   ]
  },
  {
   "cell_type": "code",
   "execution_count": 32,
   "metadata": {},
   "outputs": [
    {
     "data": {
      "text/plain": [
       "array([[100,   5],\n",
       "       [  8,  58]], dtype=int64)"
      ]
     },
     "execution_count": 32,
     "metadata": {},
     "output_type": "execute_result"
    }
   ],
   "source": [
    "from sklearn.metrics import confusion_matrix\n",
    "\n",
    "confusion_matrix(y_teste, classifier.predict(test_kbest))"
   ]
  },
  {
   "cell_type": "code",
   "execution_count": null,
   "metadata": {},
   "outputs": [],
   "source": [
    "plt.figure(figsize=(10, 10))\n",
    "sns.set(font_scale=1.5)\n",
    "sns.heatmap(confusion_matrix(y_teste, classifier.predict(test_kbest)), annot=True, fmt='d').set(xlabel='Predição', ylabel='Real') # confusion_matrix01.png"
   ]
  },
  {
   "attachments": {},
   "cell_type": "markdown",
   "metadata": {},
   "source": [
    "RFE (Recursive Feature Elimination)\n",
    "\n",
    "RFE é um método de seleção de features que remove recursivamente as features e constrói um modelo nos recursos que permanecem."
   ]
  },
  {
   "cell_type": "code",
   "execution_count": 59,
   "metadata": {},
   "outputs": [
    {
     "name": "stdout",
     "output_type": "stream",
     "text": [
      "Random Forest: 87.13%\n"
     ]
    }
   ],
   "source": [
    "from sklearn.feature_selection import RFE\n",
    "\n",
    "SEED = 1234\n",
    "random.seed(SEED)\n",
    "\n",
    "x_treino, x_teste, y_treino, y_teste = train_test_split(exames_v5, diagnostico, test_size=0.3)\n",
    "\n",
    "classifier = RandomForestClassifier(n_estimators=100, random_state=1234)\n",
    "classifier.fit(x_treino, y_treino)\n",
    "\n",
    "rfe = RFE(estimator=classifier, n_features_to_select=2, step=1)\n",
    "rfe.fit(x_treino, y_treino)\n",
    "\n",
    "train_rfe = rfe.transform(x_treino)\n",
    "test_rfe = rfe.transform(x_teste)\n",
    "\n",
    "classifier.fit(train_rfe, y_treino)\n",
    "\n",
    "print(f'Random Forest: {classifier.score(test_rfe, y_teste) * 100:.2f}%')"
   ]
  },
  {
   "cell_type": "code",
   "execution_count": null,
   "metadata": {},
   "outputs": [],
   "source": [
    "confusion_matrix(y_teste, classifier.predict(test_rfe))\n",
    "\n",
    "plt.figure(figsize=(10, 10))\n",
    "sns.set(font_scale=1.5)\n",
    "sns.heatmap(confusion_matrix(y_teste, classifier.predict(test_rfe)), annot=True, fmt='d').set(xlabel='Predição', ylabel='Real') # confusion_matrix02.png"
   ]
  },
  {
   "attachments": {},
   "cell_type": "markdown",
   "metadata": {},
   "source": [
    "RFECV (Recursive Feature Elimination with Cross-Validation)\n",
    "\n",
    "RFECV é um método de seleção de features que remove recursivamente as features e constrói um modelo nos recursos que permanecem. Ele usa validação cruzada para encontrar o número ideal de features."
   ]
  },
  {
   "cell_type": "code",
   "execution_count": 61,
   "metadata": {},
   "outputs": [
    {
     "name": "stdout",
     "output_type": "stream",
     "text": [
      "Random Forest: 92.98%\n"
     ]
    }
   ],
   "source": [
    "from sklearn.feature_selection import RFECV\n",
    "\n",
    "SEED = 1234\n",
    "random.seed(SEED)\n",
    "\n",
    "x_treino, x_teste, y_treino, y_teste = train_test_split(exames_v5, diagnostico, test_size=0.3)\n",
    "\n",
    "classifier = RandomForestClassifier(n_estimators=100, random_state=1234)\n",
    "classifier.fit(x_treino, y_treino)\n",
    "\n",
    "rfecv = RFECV(estimator=classifier, step=1, cv=5, scoring='accuracy')\n",
    "rfecv.fit(x_treino, y_treino)\n",
    "\n",
    "train_rfecv = rfecv.transform(x_treino)\n",
    "test_rfecv = rfecv.transform(x_teste)\n",
    "\n",
    "classifier.fit(train_rfecv, y_treino)\n",
    "\n",
    "print(f'Random Forest: {classifier.score(test_rfecv, y_teste) * 100:.2f}%')"
   ]
  },
  {
   "cell_type": "code",
   "execution_count": null,
   "metadata": {},
   "outputs": [],
   "source": [
    "confusion_matrix(y_teste, classifier.predict(test_rfecv))\n",
    "\n",
    "plt.figure(figsize=(10, 10))\n",
    "sns.set(font_scale=1.5)\n",
    "sns.heatmap(confusion_matrix(y_teste, classifier.predict(test_rfecv)), annot=True, fmt='d').set(xlabel='Predição', ylabel='Real') # confusion_matrix03.png"
   ]
  },
  {
   "cell_type": "code",
   "execution_count": 46,
   "metadata": {},
   "outputs": [
    {
     "data": {
      "text/plain": [
       "26"
      ]
     },
     "execution_count": 46,
     "metadata": {},
     "output_type": "execute_result"
    }
   ],
   "source": [
    "rfecv.n_features_ # Foram selecionadas 26 features para o modelo"
   ]
  },
  {
   "cell_type": "code",
   "execution_count": null,
   "metadata": {},
   "outputs": [],
   "source": [
    "import matplotlib.pyplot as plt\n",
    "\n",
    "plt.figure(figsize=(16, 9))\n",
    "\n",
    "plt.xlabel('Número de features selecionadas')\n",
    "plt.ylabel('Score')\n",
    "\n",
    "plt.grid(True)\n",
    "\n",
    "plt.plot(range(1, len(rfecv.cv_results_['mean_test_score']) + 1), rfecv.cv_results_['mean_test_score'], color='red', linewidth=3) # rfecv01.png"
   ]
  },
  {
   "cell_type": "code",
   "execution_count": 65,
   "metadata": {},
   "outputs": [
    {
     "data": {
      "text/plain": [
       "(569, 2)"
      ]
     },
     "execution_count": 65,
     "metadata": {},
     "output_type": "execute_result"
    }
   ],
   "source": [
    "exames_v6 = rfe.transform(exames_v5)\n",
    "exames_v6.shape"
   ]
  },
  {
   "cell_type": "code",
   "execution_count": null,
   "metadata": {},
   "outputs": [],
   "source": [
    "import seaborn as sns\n",
    "\n",
    "plt.figure(figsize=(16, 9))\n",
    "sns.scatterplot(x=exames_v6[:, 0], y=exames_v6[:, 1], hue=diagnostico) # scatterplot01.png"
   ]
  },
  {
   "attachments": {},
   "cell_type": "markdown",
   "metadata": {},
   "source": [
    "PCA (Principal Component Analysis)\n",
    "\n",
    "PCA é um método de redução de dimensionalidade que usa a decomposição de valores singulares da matriz de dados para projetar os dados em um espaço dimensional inferior.\n",
    "\n",
    "T-SNE (t-Distributed Stochastic Neighbor Embedding)\n",
    "\n",
    "T-SNE é um método de redução de dimensionalidade que é usado principalmente para visualizar dados de alta dimensão. Ele converte semelhanças entre pontos de dados em probabilidades conjuntas e tenta minimizar a divergência entre as distribuições de probabilidade dos dados de alta dimensão e da representação de baixa dimensão."
   ]
  },
  {
   "cell_type": "code",
   "execution_count": null,
   "metadata": {},
   "outputs": [],
   "source": [
    "from sklearn.decomposition import PCA\n",
    "\n",
    "pca = PCA(n_components=2)\n",
    "exames_v7 = pca.fit_transform(exames_v5)\n",
    "\n",
    "plt.figure(figsize=(16, 9))\n",
    "sns.scatterplot(x=exames_v7[:, 0], y=exames_v7[:, 1], hue=diagnostico) # scatterplot02.png"
   ]
  },
  {
   "cell_type": "code",
   "execution_count": null,
   "metadata": {},
   "outputs": [],
   "source": [
    "from sklearn.manifold import TSNE\n",
    "\n",
    "tsne = TSNE(n_components=2)\n",
    "exames_v8 = tsne.fit_transform(exames_v4)\n",
    "\n",
    "plt.figure(figsize=(16, 9))\n",
    "sns.scatterplot(x=exames_v8[:, 0], y=exames_v8[:, 1], hue=diagnostico) # scatterplot03.png"
   ]
  }
 ],
 "metadata": {
  "kernelspec": {
   "display_name": "Python 3",
   "language": "python",
   "name": "python3"
  },
  "language_info": {
   "codemirror_mode": {
    "name": "ipython",
    "version": 3
   },
   "file_extension": ".py",
   "mimetype": "text/x-python",
   "name": "python",
   "nbconvert_exporter": "python",
   "pygments_lexer": "ipython3",
   "version": "3.11.2"
  },
  "orig_nbformat": 4
 },
 "nbformat": 4,
 "nbformat_minor": 2
}
