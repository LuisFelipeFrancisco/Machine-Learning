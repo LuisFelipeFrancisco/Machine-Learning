{
 "cells": [
  {
   "cell_type": "code",
   "execution_count": 1,
   "metadata": {},
   "outputs": [],
   "source": [
    "porco1 = [0,1,0] # não tem pelo longo, tem perna curta, não faz auau\n",
    "porco2 = [0,1,1] # não tem pelo longo, tem perna curta, faz auau (porco estranho)\n",
    "porco3 = [1,1,0] # tem pelo longo, tem perna curta, não faz auau\n",
    "\n",
    "cachorro1 = [0,1,1] # não tem pelo longo, tem perna curta, faz auau\n",
    "cachorro2 = [1,0,1] # tem pelo longo, não tem perna curta, faz auau\n",
    "cachorro3 = [1,1,1] # tem pelo longo, tem perna curta, faz auau"
   ]
  },
  {
   "cell_type": "code",
   "execution_count": 2,
   "metadata": {},
   "outputs": [],
   "source": [
    "dados = [porco1, porco2, porco3, cachorro1, cachorro2, cachorro3] # treino de dados\n",
    "classes = [1,1,1,0,0,0] # 1 => porco, 0 => cachorro - labels"
   ]
  },
  {
   "cell_type": "code",
   "execution_count": null,
   "metadata": {},
   "outputs": [],
   "source": [
    "from sklearn.svm import LinearSVC\n",
    "\n",
    "model = LinearSVC() # cria o modelo de classificação\n",
    "model.fit(dados, classes) # alimenta o modelo com os dados e as classes (treinamento)"
   ]
  },
  {
   "cell_type": "code",
   "execution_count": 4,
   "metadata": {},
   "outputs": [
    {
     "data": {
      "text/plain": [
       "array([0])"
      ]
     },
     "execution_count": 4,
     "metadata": {},
     "output_type": "execute_result"
    }
   ],
   "source": [
    "animal_misterioso = [1,1,1] # tem pelo longo, tem perna curta, faz auau\n",
    "model.predict([animal_misterioso]) # faz a predição"
   ]
  },
  {
   "cell_type": "code",
   "execution_count": 5,
   "metadata": {},
   "outputs": [],
   "source": [
    "misterio1 = [1,1,1] # => 0 cachorro\n",
    "misterio2 = [1,1,0] # => 1 porco\n",
    "misterio3 = [0,1,1] # => 0 cachorro, mas era um porco que late "
   ]
  },
  {
   "cell_type": "code",
   "execution_count": 6,
   "metadata": {},
   "outputs": [
    {
     "data": {
      "text/plain": [
       "array([0, 1, 0])"
      ]
     },
     "execution_count": 6,
     "metadata": {},
     "output_type": "execute_result"
    }
   ],
   "source": [
    "previsoes = model.predict([misterio1, misterio2, misterio3])\n",
    "previsoes"
   ]
  },
  {
   "cell_type": "code",
   "execution_count": 7,
   "metadata": {},
   "outputs": [],
   "source": [
    "teste_classes = [0,1,1]"
   ]
  },
  {
   "cell_type": "code",
   "execution_count": 8,
   "metadata": {},
   "outputs": [],
   "source": [
    "corretos = (previsoes == teste_classes).sum()\n",
    "total = len(teste_classes)"
   ]
  },
  {
   "cell_type": "code",
   "execution_count": 9,
   "metadata": {},
   "outputs": [
    {
     "name": "stdout",
     "output_type": "stream",
     "text": [
      "Taxa de acerto: 66.66666666666666%\n"
     ]
    }
   ],
   "source": [
    "print (f\"Taxa de acerto: {corretos/total*100}%\")"
   ]
  },
  {
   "cell_type": "code",
   "execution_count": 10,
   "metadata": {},
   "outputs": [
    {
     "name": "stdout",
     "output_type": "stream",
     "text": [
      "Taxa de acerto: 66.66666666666666%\n"
     ]
    }
   ],
   "source": [
    "from sklearn.metrics import accuracy_score\n",
    "\n",
    "accuracy = accuracy_score(teste_classes, previsoes) # calcula a taxa de acertos\n",
    "print (f\"Taxa de acerto: {accuracy*100}%\")"
   ]
  },
  {
   "cell_type": "code",
   "execution_count": null,
   "metadata": {},
   "outputs": [],
   "source": []
  }
 ],
 "metadata": {
  "kernelspec": {
   "display_name": "Python 3",
   "language": "python",
   "name": "python3"
  },
  "language_info": {
   "codemirror_mode": {
    "name": "ipython",
    "version": 3
   },
   "file_extension": ".py",
   "mimetype": "text/x-python",
   "name": "python",
   "nbconvert_exporter": "python",
   "pygments_lexer": "ipython3",
   "version": "3.11.2"
  },
  "orig_nbformat": 4
 },
 "nbformat": 4,
 "nbformat_minor": 2
}
